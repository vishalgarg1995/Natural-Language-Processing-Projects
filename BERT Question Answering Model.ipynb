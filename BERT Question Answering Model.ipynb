{
 "cells": [
  {
   "cell_type": "code",
   "execution_count": null,
   "id": "f54da86d",
   "metadata": {},
   "outputs": [],
   "source": [
    "!pip uninstall pyOpenSSL"
   ]
  },
  {
   "cell_type": "code",
   "execution_count": null,
   "id": "62c8edbf",
   "metadata": {},
   "outputs": [],
   "source": [
    "!pip install pyOpenSSL"
   ]
  },
  {
   "cell_type": "code",
   "execution_count": 2,
   "id": "fa88f122",
   "metadata": {},
   "outputs": [
    {
     "name": "stdout",
     "output_type": "stream",
     "text": [
      "Requirement already satisfied: transformers in c:\\users\\vishal garg\\anaconda3\\lib\\site-packages (4.25.1)\n",
      "Requirement already satisfied: filelock in c:\\users\\vishal garg\\anaconda3\\lib\\site-packages (from transformers) (3.6.0)\n",
      "Requirement already satisfied: huggingface-hub<1.0,>=0.10.0 in c:\\users\\vishal garg\\anaconda3\\lib\\site-packages (from transformers) (0.10.0)\n",
      "Requirement already satisfied: numpy>=1.17 in c:\\users\\vishal garg\\anaconda3\\lib\\site-packages (from transformers) (1.25.2)\n",
      "Requirement already satisfied: packaging>=20.0 in c:\\users\\vishal garg\\anaconda3\\lib\\site-packages (from transformers) (21.3)\n",
      "Requirement already satisfied: pyyaml>=5.1 in c:\\users\\vishal garg\\anaconda3\\lib\\site-packages (from transformers) (6.0)\n",
      "Requirement already satisfied: regex!=2019.12.17 in c:\\users\\vishal garg\\anaconda3\\lib\\site-packages (from transformers) (2023.8.8)\n",
      "Requirement already satisfied: requests in c:\\users\\vishal garg\\anaconda3\\lib\\site-packages (from transformers) (2.27.1)\n",
      "Requirement already satisfied: tokenizers!=0.11.3,<0.14,>=0.11.1 in c:\\users\\vishal garg\\anaconda3\\lib\\site-packages (from transformers) (0.12.1)\n",
      "Requirement already satisfied: tqdm>=4.27 in c:\\users\\vishal garg\\anaconda3\\lib\\site-packages (from transformers) (4.66.1)\n",
      "Requirement already satisfied: typing-extensions>=3.7.4.3 in c:\\users\\vishal garg\\anaconda3\\lib\\site-packages (from huggingface-hub<1.0,>=0.10.0->transformers) (4.5.0)\n",
      "Requirement already satisfied: pyparsing!=3.0.5,>=2.0.2 in c:\\users\\vishal garg\\anaconda3\\lib\\site-packages (from packaging>=20.0->transformers) (3.0.4)\n",
      "Requirement already satisfied: colorama in c:\\users\\vishal garg\\anaconda3\\lib\\site-packages (from tqdm>=4.27->transformers) (0.4.6)\n",
      "Requirement already satisfied: urllib3<1.27,>=1.21.1 in c:\\users\\vishal garg\\anaconda3\\lib\\site-packages (from requests->transformers) (1.26.14)\n",
      "Requirement already satisfied: certifi>=2017.4.17 in c:\\users\\vishal garg\\anaconda3\\lib\\site-packages (from requests->transformers) (2021.10.8)\n",
      "Requirement already satisfied: charset-normalizer~=2.0.0 in c:\\users\\vishal garg\\anaconda3\\lib\\site-packages (from requests->transformers) (2.0.4)\n",
      "Requirement already satisfied: idna<4,>=2.5 in c:\\users\\vishal garg\\anaconda3\\lib\\site-packages (from requests->transformers) (2.10)\n"
     ]
    },
    {
     "name": "stderr",
     "output_type": "stream",
     "text": [
      "WARNING: Ignoring invalid distribution -rotobuf (c:\\users\\vishal garg\\anaconda3\\lib\\site-packages)\n",
      "WARNING: Ignoring invalid distribution -rotobuf (c:\\users\\vishal garg\\anaconda3\\lib\\site-packages)\n"
     ]
    }
   ],
   "source": [
    "!pip install transformers"
   ]
  },
  {
   "cell_type": "code",
   "execution_count": null,
   "id": "ab0415d2",
   "metadata": {},
   "outputs": [],
   "source": [
    "from transformers import pipeline\n",
    "\n",
    "# Load the BERT-based question answering model\n",
    "qa_model = pipeline('question-answering', model='bert-large-uncased-whole-word-masking-finetuned-squad')"
   ]
  },
  {
   "cell_type": "code",
   "execution_count": null,
   "id": "1c14b911",
   "metadata": {},
   "outputs": [],
   "source": [
    "string = input(\"Enter the string:\")"
   ]
  },
  {
   "cell_type": "code",
   "execution_count": null,
   "id": "0621bca3",
   "metadata": {},
   "outputs": [],
   "source": [
    "# Define the text of the legal case\n",
    "case_text = \"\"\"\n",
    "In the case of State of Maharashtra v. Praful B. Desai, the court held that the accused was guilty of accepting bribes \n",
    "in his capacity as an income tax officer. The court found that the accused had demanded and received bribes from several \n",
    "taxpayers in exchange for reducing their tax liability. The court sentenced the accused to three years in prison and a \n",
    "fine of Rs. 50,000.\n",
    "\n",
    "\"\"\""
   ]
  },
  {
   "cell_type": "code",
   "execution_count": null,
   "id": "412e220c",
   "metadata": {},
   "outputs": [],
   "source": [
    "# Define the question to ask about the legal case\n",
    "question = \"complainant is filing complain against which company?\"\n",
    "\n",
    "# Use the model to answer the question\n",
    "answer = qa_model(question=question, context=string)\n",
    "\n",
    "# Print the answer\n",
    "print(answer['answer'])"
   ]
  },
  {
   "cell_type": "code",
   "execution_count": null,
   "id": "0e176fb7",
   "metadata": {},
   "outputs": [],
   "source": []
  },
  {
   "cell_type": "code",
   "execution_count": null,
   "id": "1f126e54",
   "metadata": {},
   "outputs": [],
   "source": []
  }
 ],
 "metadata": {
  "kernelspec": {
   "display_name": "Python 3 (ipykernel)",
   "language": "python",
   "name": "python3"
  },
  "language_info": {
   "codemirror_mode": {
    "name": "ipython",
    "version": 3
   },
   "file_extension": ".py",
   "mimetype": "text/x-python",
   "name": "python",
   "nbconvert_exporter": "python",
   "pygments_lexer": "ipython3",
   "version": "3.11.4"
  }
 },
 "nbformat": 4,
 "nbformat_minor": 5
}
