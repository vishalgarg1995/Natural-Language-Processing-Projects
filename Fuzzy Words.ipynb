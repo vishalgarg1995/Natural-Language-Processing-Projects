{
 "cells": [
  {
   "cell_type": "code",
   "execution_count": 2,
   "id": "a2b260ca",
   "metadata": {},
   "outputs": [
    {
     "name": "stderr",
     "output_type": "stream",
     "text": [
      "C:\\Users\\Vishal Garg\\anaconda3\\lib\\site-packages\\fuzzywuzzy\\fuzz.py:11: UserWarning: Using slow pure-python SequenceMatcher. Install python-Levenshtein to remove this warning\n",
      "  warnings.warn('Using slow pure-python SequenceMatcher. Install python-Levenshtein to remove this warning')\n"
     ]
    }
   ],
   "source": [
    "import pandas as pd\n",
    "from fuzzywuzzy import fuzz, process"
   ]
  },
  {
   "cell_type": "code",
   "execution_count": 3,
   "id": "bc18190d",
   "metadata": {},
   "outputs": [],
   "source": [
    "# Load the Excel file\n",
    "df = pd.read_excel('fuzzy.xlsx')"
   ]
  },
  {
   "cell_type": "code",
   "execution_count": 4,
   "id": "a68bfaee",
   "metadata": {},
   "outputs": [],
   "source": [
    "# Get the column of strings to match\n",
    "strings = df['String Name'].tolist()"
   ]
  },
  {
   "cell_type": "code",
   "execution_count": 20,
   "id": "af7b2746",
   "metadata": {},
   "outputs": [
    {
     "data": {
      "text/plain": [
       "['Apple',\n",
       " 'Appy',\n",
       " 'Vishal Garg',\n",
       " 'Vaishali',\n",
       " 'Vishalji',\n",
       " 'Shampoo',\n",
       " 'Shaitan',\n",
       " 'Apples',\n",
       " 'Apple pie order',\n",
       " 'Icebreak',\n",
       " 'Icebreaking',\n",
       " 'Icebreaken',\n",
       " 'Remote',\n",
       " 'Remotely',\n",
       " 'Shirt',\n",
       " 'T-Shirt',\n",
       " 'Award',\n",
       " 'Reward',\n",
       " 'Occassion',\n",
       " 'Topnotch',\n",
       " 'Laptop',\n",
       " 'topper']"
      ]
     },
     "execution_count": 20,
     "metadata": {},
     "output_type": "execute_result"
    }
   ],
   "source": [
    "strings"
   ]
  },
  {
   "cell_type": "code",
   "execution_count": 31,
   "id": "257a7c47",
   "metadata": {},
   "outputs": [],
   "source": [
    "# Define the string to match against\n",
    "target_string = 'visha'"
   ]
  },
  {
   "cell_type": "code",
   "execution_count": 32,
   "id": "8fdf66fe",
   "metadata": {},
   "outputs": [],
   "source": [
    "# Define a threshold for similarity\n",
    "threshold = 80"
   ]
  },
  {
   "cell_type": "code",
   "execution_count": 33,
   "id": "2456e8af",
   "metadata": {},
   "outputs": [],
   "source": [
    "# Perform fuzzy matching\n",
    "matches = []\n",
    "for string in strings:\n",
    "    score = fuzz.partial_ratio(target_string, string)\n",
    "    if score >= threshold:\n",
    "        matches.append(string)"
   ]
  },
  {
   "cell_type": "code",
   "execution_count": 34,
   "id": "5b27c235",
   "metadata": {},
   "outputs": [
    {
     "name": "stdout",
     "output_type": "stream",
     "text": [
      "['Vishal Garg', 'Vaishali', 'Vishalji']\n"
     ]
    }
   ],
   "source": [
    "# Print the matches\n",
    "print(matches)"
   ]
  },
  {
   "cell_type": "code",
   "execution_count": null,
   "id": "cf05659f",
   "metadata": {},
   "outputs": [],
   "source": []
  }
 ],
 "metadata": {
  "kernelspec": {
   "display_name": "Python 3 (ipykernel)",
   "language": "python",
   "name": "python3"
  },
  "language_info": {
   "codemirror_mode": {
    "name": "ipython",
    "version": 3
   },
   "file_extension": ".py",
   "mimetype": "text/x-python",
   "name": "python",
   "nbconvert_exporter": "python",
   "pygments_lexer": "ipython3",
   "version": "3.11.4"
  }
 },
 "nbformat": 4,
 "nbformat_minor": 5
}
