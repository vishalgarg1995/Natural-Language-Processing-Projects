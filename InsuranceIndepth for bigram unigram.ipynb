{
 "cells": [
  {
   "cell_type": "code",
   "execution_count": 1,
   "id": "0aabde23",
   "metadata": {},
   "outputs": [
    {
     "data": {
      "text/html": [
       "<div>\n",
       "<style scoped>\n",
       "    .dataframe tbody tr th:only-of-type {\n",
       "        vertical-align: middle;\n",
       "    }\n",
       "\n",
       "    .dataframe tbody tr th {\n",
       "        vertical-align: top;\n",
       "    }\n",
       "\n",
       "    .dataframe thead th {\n",
       "        text-align: right;\n",
       "    }\n",
       "</style>\n",
       "<table border=\"1\" class=\"dataframe\">\n",
       "  <thead>\n",
       "    <tr style=\"text-align: right;\">\n",
       "      <th></th>\n",
       "      <th>Case</th>\n",
       "      <th>Sector</th>\n",
       "    </tr>\n",
       "  </thead>\n",
       "  <tbody>\n",
       "    <tr>\n",
       "      <th>0</th>\n",
       "      <td>Misrepresentation' 'misleading information'</td>\n",
       "      <td>Unfair Business Practices</td>\n",
       "    </tr>\n",
       "    <tr>\n",
       "      <th>1</th>\n",
       "      <td>Missale' 'Misrepresentation' 'mislead'</td>\n",
       "      <td>Unfair Business Practices</td>\n",
       "    </tr>\n",
       "    <tr>\n",
       "      <th>2</th>\n",
       "      <td>Insurers 'Unfair Business' Practices 'Missale'...</td>\n",
       "      <td>Unfair Business Practices</td>\n",
       "    </tr>\n",
       "    <tr>\n",
       "      <th>3</th>\n",
       "      <td>Misrepresentation' of policy terms and conditi...</td>\n",
       "      <td>Unfair Business Practices</td>\n",
       "    </tr>\n",
       "    <tr>\n",
       "      <th>4</th>\n",
       "      <td>Misrepresentation' Policyholders can also file...</td>\n",
       "      <td>Unfair Business Practices</td>\n",
       "    </tr>\n",
       "  </tbody>\n",
       "</table>\n",
       "</div>"
      ],
      "text/plain": [
       "                                                Case  \\\n",
       "0       Misrepresentation' 'misleading information'    \n",
       "1            Missale' 'Misrepresentation' 'mislead'    \n",
       "2  Insurers 'Unfair Business' Practices 'Missale'...   \n",
       "3  Misrepresentation' of policy terms and conditi...   \n",
       "4  Misrepresentation' Policyholders can also file...   \n",
       "\n",
       "                      Sector  \n",
       "0  Unfair Business Practices  \n",
       "1  Unfair Business Practices  \n",
       "2  Unfair Business Practices  \n",
       "3  Unfair Business Practices  \n",
       "4  Unfair Business Practices  "
      ]
     },
     "execution_count": 1,
     "metadata": {},
     "output_type": "execute_result"
    }
   ],
   "source": [
    "import pandas as pd\n",
    "df = pd.read_csv('Insurance indepth.csv',encoding='latin-1')\n",
    "df.head()"
   ]
  },
  {
   "cell_type": "code",
   "execution_count": 2,
   "id": "24da8bcd",
   "metadata": {},
   "outputs": [],
   "source": [
    "from io import StringIO"
   ]
  },
  {
   "cell_type": "code",
   "execution_count": 3,
   "id": "317e2cc5",
   "metadata": {},
   "outputs": [],
   "source": [
    "df = df[pd.notnull(df['Case'])]"
   ]
  },
  {
   "cell_type": "code",
   "execution_count": 4,
   "id": "88d90f35",
   "metadata": {},
   "outputs": [
    {
     "data": {
      "text/plain": [
       "(40, 2)"
      ]
     },
     "execution_count": 4,
     "metadata": {},
     "output_type": "execute_result"
    }
   ],
   "source": [
    "df.shape"
   ]
  },
  {
   "cell_type": "code",
   "execution_count": 5,
   "id": "5adcee69",
   "metadata": {},
   "outputs": [],
   "source": [
    "#df=df.drop(['Unnamed: 2','Unnamed: 3','Unnamed: 4','Unnamed: 5','Unnamed: 6'], axis=1)"
   ]
  },
  {
   "cell_type": "code",
   "execution_count": 6,
   "id": "9dd4e120",
   "metadata": {},
   "outputs": [
    {
     "data": {
      "text/html": [
       "<div>\n",
       "<style scoped>\n",
       "    .dataframe tbody tr th:only-of-type {\n",
       "        vertical-align: middle;\n",
       "    }\n",
       "\n",
       "    .dataframe tbody tr th {\n",
       "        vertical-align: top;\n",
       "    }\n",
       "\n",
       "    .dataframe thead th {\n",
       "        text-align: right;\n",
       "    }\n",
       "</style>\n",
       "<table border=\"1\" class=\"dataframe\">\n",
       "  <thead>\n",
       "    <tr style=\"text-align: right;\">\n",
       "      <th></th>\n",
       "      <th>Case</th>\n",
       "      <th>Sector</th>\n",
       "    </tr>\n",
       "  </thead>\n",
       "  <tbody>\n",
       "    <tr>\n",
       "      <th>0</th>\n",
       "      <td>Misrepresentation' 'misleading information'</td>\n",
       "      <td>Unfair Business Practices</td>\n",
       "    </tr>\n",
       "    <tr>\n",
       "      <th>1</th>\n",
       "      <td>Missale' 'Misrepresentation' 'mislead'</td>\n",
       "      <td>Unfair Business Practices</td>\n",
       "    </tr>\n",
       "    <tr>\n",
       "      <th>2</th>\n",
       "      <td>Insurers 'Unfair Business' Practices 'Missale'...</td>\n",
       "      <td>Unfair Business Practices</td>\n",
       "    </tr>\n",
       "    <tr>\n",
       "      <th>3</th>\n",
       "      <td>Misrepresentation' of policy terms and conditi...</td>\n",
       "      <td>Unfair Business Practices</td>\n",
       "    </tr>\n",
       "    <tr>\n",
       "      <th>4</th>\n",
       "      <td>Misrepresentation' Policyholders can also file...</td>\n",
       "      <td>Unfair Business Practices</td>\n",
       "    </tr>\n",
       "  </tbody>\n",
       "</table>\n",
       "</div>"
      ],
      "text/plain": [
       "                                                Case  \\\n",
       "0       Misrepresentation' 'misleading information'    \n",
       "1            Missale' 'Misrepresentation' 'mislead'    \n",
       "2  Insurers 'Unfair Business' Practices 'Missale'...   \n",
       "3  Misrepresentation' of policy terms and conditi...   \n",
       "4  Misrepresentation' Policyholders can also file...   \n",
       "\n",
       "                      Sector  \n",
       "0  Unfair Business Practices  \n",
       "1  Unfair Business Practices  \n",
       "2  Unfair Business Practices  \n",
       "3  Unfair Business Practices  \n",
       "4  Unfair Business Practices  "
      ]
     },
     "execution_count": 6,
     "metadata": {},
     "output_type": "execute_result"
    }
   ],
   "source": [
    "df.head()"
   ]
  },
  {
   "cell_type": "code",
   "execution_count": 7,
   "id": "8d6b45ca",
   "metadata": {},
   "outputs": [
    {
     "data": {
      "text/html": [
       "<div>\n",
       "<style scoped>\n",
       "    .dataframe tbody tr th:only-of-type {\n",
       "        vertical-align: middle;\n",
       "    }\n",
       "\n",
       "    .dataframe tbody tr th {\n",
       "        vertical-align: top;\n",
       "    }\n",
       "\n",
       "    .dataframe thead th {\n",
       "        text-align: right;\n",
       "    }\n",
       "</style>\n",
       "<table border=\"1\" class=\"dataframe\">\n",
       "  <thead>\n",
       "    <tr style=\"text-align: right;\">\n",
       "      <th></th>\n",
       "      <th>Case</th>\n",
       "      <th>Sector</th>\n",
       "      <th>category_id</th>\n",
       "    </tr>\n",
       "  </thead>\n",
       "  <tbody>\n",
       "    <tr>\n",
       "      <th>0</th>\n",
       "      <td>Misrepresentation' 'misleading information'</td>\n",
       "      <td>Unfair Business Practices</td>\n",
       "      <td>0</td>\n",
       "    </tr>\n",
       "    <tr>\n",
       "      <th>1</th>\n",
       "      <td>Missale' 'Misrepresentation' 'mislead'</td>\n",
       "      <td>Unfair Business Practices</td>\n",
       "      <td>0</td>\n",
       "    </tr>\n",
       "    <tr>\n",
       "      <th>2</th>\n",
       "      <td>Insurers 'Unfair Business' Practices 'Missale'...</td>\n",
       "      <td>Unfair Business Practices</td>\n",
       "      <td>0</td>\n",
       "    </tr>\n",
       "    <tr>\n",
       "      <th>3</th>\n",
       "      <td>Misrepresentation' of policy terms and conditi...</td>\n",
       "      <td>Unfair Business Practices</td>\n",
       "      <td>0</td>\n",
       "    </tr>\n",
       "    <tr>\n",
       "      <th>4</th>\n",
       "      <td>Misrepresentation' Policyholders can also file...</td>\n",
       "      <td>Unfair Business Practices</td>\n",
       "      <td>0</td>\n",
       "    </tr>\n",
       "  </tbody>\n",
       "</table>\n",
       "</div>"
      ],
      "text/plain": [
       "                                                Case  \\\n",
       "0       Misrepresentation' 'misleading information'    \n",
       "1            Missale' 'Misrepresentation' 'mislead'    \n",
       "2  Insurers 'Unfair Business' Practices 'Missale'...   \n",
       "3  Misrepresentation' of policy terms and conditi...   \n",
       "4  Misrepresentation' Policyholders can also file...   \n",
       "\n",
       "                      Sector  category_id  \n",
       "0  Unfair Business Practices            0  \n",
       "1  Unfair Business Practices            0  \n",
       "2  Unfair Business Practices            0  \n",
       "3  Unfair Business Practices            0  \n",
       "4  Unfair Business Practices            0  "
      ]
     },
     "execution_count": 7,
     "metadata": {},
     "output_type": "execute_result"
    }
   ],
   "source": [
    "df['category_id'] = df['Sector'].factorize()[0]\n",
    "category_id_df = df[['Sector','category_id']].drop_duplicates().sort_values('category_id')\n",
    "category_to_id = dict(category_id_df.values)\n",
    "id_to_category = dict(category_id_df[['category_id','Sector']].values)\n",
    "df.head()"
   ]
  },
  {
   "cell_type": "code",
   "execution_count": 8,
   "id": "5602c953",
   "metadata": {},
   "outputs": [
    {
     "data": {
      "image/png": "[encoded data removed]",
      "text/plain": [
       "<Figure size 576x432 with 1 Axes>"
      ]
     },
     "metadata": {
      "needs_background": "light"
     },
     "output_type": "display_data"
    }
   ],
   "source": [
    "import matplotlib.pyplot as plt\n",
    "fig = plt.figure(figsize=(8,6))\n",
    "df.groupby('Sector').Case.count().plot.bar(ylim=0)\n",
    "plt.show()"
   ]
  },
  {
   "cell_type": "code",
   "execution_count": 9,
   "id": "448be5b3",
   "metadata": {},
   "outputs": [
    {
     "data": {
      "text/plain": [
       "(40, 97)"
      ]
     },
     "execution_count": 9,
     "metadata": {},
     "output_type": "execute_result"
    }
   ],
   "source": [
    "from sklearn.feature_extraction.text import TfidfVectorizer\n",
    "tfidf = TfidfVectorizer(sublinear_tf=True, min_df=5, norm='l2', encoding='latin-1', ngram_range=(1, 2), stop_words='english')\n",
    "features = tfidf.fit_transform(df.Case).toarray()\n",
    "labels = df.category_id\n",
    "features.shape"
   ]
  },
  {
   "cell_type": "code",
   "execution_count": 10,
   "id": "38dbe61a",
   "metadata": {},
   "outputs": [
    {
     "name": "stdout",
     "output_type": "stream",
     "text": [
      "# 'Death Claim':\n",
      "  . Most correlated unigrams:\n",
      ". away\n",
      ". death\n",
      "  . Most correlated bigrams:\n",
      ". insurance company\n",
      ". life insurance\n",
      "  . Most correlated trigrams:\n",
      ". \n",
      "# 'Proposal Processing Complaints or Policy Servicing':\n",
      "  . Most correlated unigrams:\n",
      ". service\n",
      ". applicant\n",
      "  . Most correlated bigrams:\n",
      ". inconvenience applicant\n",
      ". insurance company\n",
      "  . Most correlated trigrams:\n",
      ". \n",
      "# 'Survival Claim':\n",
      "  . Most correlated unigrams:\n",
      ". payment\n",
      ". term\n",
      "  . Most correlated bigrams:\n",
      ". insurance company\n",
      ". payment term\n",
      "  . Most correlated trigrams:\n",
      ". \n",
      "# 'ULIP':\n",
      "  . Most correlated unigrams:\n",
      ". plan\n",
      ". investment\n",
      "  . Most correlated bigrams:\n",
      ". life insurance\n",
      ". insurance company\n",
      "  . Most correlated trigrams:\n",
      ". \n",
      "# 'Unfair Business Practices':\n",
      "  . Most correlated unigrams:\n",
      ". unfair\n",
      ". misrepresentation\n",
      "  . Most correlated bigrams:\n",
      ". inconvenience applicant\n",
      ". life insurance\n",
      "  . Most correlated trigrams:\n",
      ". \n"
     ]
    },
    {
     "name": "stderr",
     "output_type": "stream",
     "text": [
      "C:\\Users\\Vishal Garg\\anaconda3\\lib\\site-packages\\sklearn\\utils\\deprecation.py:87: FutureWarning: Function get_feature_names is deprecated; get_feature_names is deprecated in 1.0 and will be removed in 1.2. Please use get_feature_names_out instead.\n",
      "  warnings.warn(msg, category=FutureWarning)\n",
      "C:\\Users\\Vishal Garg\\anaconda3\\lib\\site-packages\\sklearn\\utils\\deprecation.py:87: FutureWarning: Function get_feature_names is deprecated; get_feature_names is deprecated in 1.0 and will be removed in 1.2. Please use get_feature_names_out instead.\n",
      "  warnings.warn(msg, category=FutureWarning)\n",
      "C:\\Users\\Vishal Garg\\anaconda3\\lib\\site-packages\\sklearn\\utils\\deprecation.py:87: FutureWarning: Function get_feature_names is deprecated; get_feature_names is deprecated in 1.0 and will be removed in 1.2. Please use get_feature_names_out instead.\n",
      "  warnings.warn(msg, category=FutureWarning)\n",
      "C:\\Users\\Vishal Garg\\anaconda3\\lib\\site-packages\\sklearn\\utils\\deprecation.py:87: FutureWarning: Function get_feature_names is deprecated; get_feature_names is deprecated in 1.0 and will be removed in 1.2. Please use get_feature_names_out instead.\n",
      "  warnings.warn(msg, category=FutureWarning)\n",
      "C:\\Users\\Vishal Garg\\anaconda3\\lib\\site-packages\\sklearn\\utils\\deprecation.py:87: FutureWarning: Function get_feature_names is deprecated; get_feature_names is deprecated in 1.0 and will be removed in 1.2. Please use get_feature_names_out instead.\n",
      "  warnings.warn(msg, category=FutureWarning)\n"
     ]
    }
   ],
   "source": [
    "from sklearn.feature_selection import chi2\n",
    "import numpy as np\n",
    "N = 2\n",
    "for Sector, category_id in sorted(category_to_id.items()):\n",
    "    features_chi2 = chi2(features, labels == category_id)\n",
    "    indices = np.argsort(features_chi2[0])\n",
    "    feature_names = np.array(tfidf.get_feature_names())[indices]\n",
    "    unigrams = [v for v in feature_names if len(v.split(' ')) == 1]\n",
    "    bigrams = [v for v in feature_names if len(v.split(' ')) == 2]\n",
    "    trigrams = [v for v in feature_names if len(v.split(' ')) == 3]\n",
    "    print(\"# '{}':\".format(Sector))\n",
    "    print(\"  . Most correlated unigrams:\\n. {}\".format('\\n. '.join(unigrams[-N:])))\n",
    "    print(\"  . Most correlated bigrams:\\n. {}\".format('\\n. '.join(bigrams[-N:])))\n",
    "    print(\"  . Most correlated trigrams:\\n. {}\".format('\\n. '.join(trigrams[-N:])))"
   ]
  },
  {
   "cell_type": "code",
   "execution_count": null,
   "id": "f5f84ba7",
   "metadata": {},
   "outputs": [],
   "source": []
  },
  {
   "cell_type": "code",
   "execution_count": null,
   "id": "d916ffa1",
   "metadata": {},
   "outputs": [],
   "source": []
  }
 ],
 "metadata": {
  "kernelspec": {
   "display_name": "Python 3 (ipykernel)",
   "language": "python",
   "name": "python3"
  },
  "language_info": {
   "codemirror_mode": {
    "name": "ipython",
    "version": 3
   },
   "file_extension": ".py",
   "mimetype": "text/x-python",
   "name": "python",
   "nbconvert_exporter": "python",
   "pygments_lexer": "ipython3",
   "version": "3.11.4"
  }
 },
 "nbformat": 4,
 "nbformat_minor": 5
}
